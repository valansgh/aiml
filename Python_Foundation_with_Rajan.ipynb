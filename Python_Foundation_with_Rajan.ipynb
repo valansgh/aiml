{
  "nbformat": 4,
  "nbformat_minor": 0,
  "metadata": {
    "colab": {
      "provenance": [],
      "include_colab_link": true
    },
    "kernelspec": {
      "name": "python3",
      "display_name": "Python 3"
    },
    "language_info": {
      "name": "python"
    }
  },
  "cells": [
    {
      "cell_type": "markdown",
      "metadata": {
        "id": "view-in-github",
        "colab_type": "text"
      },
      "source": [
        "<a href=\"https://colab.research.google.com/github/valansgh/aiml/blob/main/Python_Foundation_with_Rajan.ipynb\" target=\"_parent\"><img src=\"https://colab.research.google.com/assets/colab-badge.svg\" alt=\"Open In Colab\"/></a>"
      ]
    },
    {
      "cell_type": "code",
      "execution_count": null,
      "metadata": {
        "colab": {
          "base_uri": "https://localhost:8080/"
        },
        "id": "nmcoIUggTZ5f",
        "outputId": "501b1e81-06c4-4d75-dfbb-fa23d6e1398d"
      },
      "outputs": [
        {
          "output_type": "stream",
          "name": "stdout",
          "text": [
            "this works same! press shift+enter to run the code\n"
          ]
        }
      ],
      "source": [
        "print(\"this works same! press shift+enter to run the code\")"
      ]
    },
    {
      "cell_type": "code",
      "source": [
        "print('it is ok to use single quotes ')"
      ],
      "metadata": {
        "id": "sHMPQl-1Tjzl",
        "colab": {
          "base_uri": "https://localhost:8080/"
        },
        "outputId": "07b6c758-3049-488e-98bf-38cc6a46bf58"
      },
      "execution_count": null,
      "outputs": [
        {
          "output_type": "stream",
          "name": "stdout",
          "text": [
            "it is ok to use single quotes \n"
          ]
        }
      ]
    },
    {
      "cell_type": "code",
      "source": [
        "print(\"It is also OK to use Double Quotes\")"
      ],
      "metadata": {
        "colab": {
          "base_uri": "https://localhost:8080/"
        },
        "id": "vnvDNIfcULS1",
        "outputId": "1fc4111b-2d8e-4406-d546-bf68c943433a"
      },
      "execution_count": null,
      "outputs": [
        {
          "output_type": "stream",
          "name": "stdout",
          "text": [
            "It is also OK to use Double Quotes\n"
          ]
        }
      ]
    },
    {
      "cell_type": "code",
      "source": [
        "print(\"\"\"you can even use triple\n",
        "quotes,\n",
        "only triple quotes allows us to write messages\n",
        "across Multiple Lines.\n",
        "you cannot write multiple lines messages using single or\n",
        "double quotes. \"\"\")"
      ],
      "metadata": {
        "colab": {
          "base_uri": "https://localhost:8080/"
        },
        "id": "mWrvzPXsUNSI",
        "outputId": "5e1bab3f-be06-422b-f35c-698cbe3fef45"
      },
      "execution_count": null,
      "outputs": [
        {
          "output_type": "stream",
          "name": "stdout",
          "text": [
            "you can even use triple \n",
            "quotes, \n",
            "only triple quotes allows us to write messages\n",
            "across Multiple Lines.\n",
            "you cannot write multiple lines messages using single or\n",
            "double quotes. \n"
          ]
        }
      ]
    },
    {
      "cell_type": "code",
      "source": [],
      "metadata": {
        "id": "vEnwU_stUWDD"
      },
      "execution_count": null,
      "outputs": []
    },
    {
      "cell_type": "code",
      "source": [
        "# let us experience errors <------------------\n",
        "\n",
        "# this is called comment, comment begins with # (pound) Symbol\n",
        "\n",
        "# comment is used to write notes , desriptions , todos, reminders etc.\n",
        "\n",
        "print(\"ho ho ! merry christmas\")"
      ],
      "metadata": {
        "colab": {
          "base_uri": "https://localhost:8080/"
        },
        "id": "5cBEdbsSUoTi",
        "outputId": "c4a967db-de9f-4375-9cb5-51116717b2f6"
      },
      "execution_count": null,
      "outputs": [
        {
          "output_type": "stream",
          "name": "stdout",
          "text": [
            "ho ho ! merry christmas\n"
          ]
        }
      ]
    },
    {
      "cell_type": "code",
      "source": [
        "# here is the formula to find force\n",
        "\n",
        "print(\"force = mass * acc. \")"
      ],
      "metadata": {
        "colab": {
          "base_uri": "https://localhost:8080/"
        },
        "id": "pbXIj8xrUtI5",
        "outputId": "9bdb6386-d5e2-41cb-c117-bd0558f1c06d"
      },
      "execution_count": null,
      "outputs": [
        {
          "output_type": "stream",
          "name": "stdout",
          "text": [
            "force = mass * acc. \n"
          ]
        }
      ]
    },
    {
      "cell_type": "code",
      "source": [],
      "metadata": {
        "id": "tqdC828jVCES"
      },
      "execution_count": null,
      "outputs": []
    },
    {
      "cell_type": "markdown",
      "source": [
        "# Let us Develop an understanding of Syntax i.e Grammer\n",
        "----"
      ],
      "metadata": {
        "id": "hqZ6seHvVSlC"
      }
    },
    {
      "cell_type": "code",
      "source": [
        "\n",
        "print('hi')    #OK\n",
        "\n",
        "Print('hi')    #Error\n",
        "\n",
        "prent('hi')    #Error\n",
        "\n",
        "print{'hi'}    #Error\n",
        "\n",
        "print('hi)     #Error"
      ],
      "metadata": {
        "id": "TQrN33mcVU0c"
      },
      "execution_count": null,
      "outputs": []
    },
    {
      "cell_type": "code",
      "source": [],
      "metadata": {
        "id": "2UE2IGbVVVY_"
      },
      "execution_count": null,
      "outputs": []
    },
    {
      "cell_type": "markdown",
      "source": [
        "# Quick Question : Are all Numbers processed Same in Mathematics ? NO\n",
        "---\n",
        "similarly Not all Data is Processed Same In Python  , in order to Process Data\n",
        "Correct ,first you must understand the Type(s) of Data.\n"
      ],
      "metadata": {
        "id": "ydCH16SfWWBF"
      }
    },
    {
      "cell_type": "code",
      "source": [],
      "metadata": {
        "id": "Ak8KwAUEWtLV"
      },
      "execution_count": null,
      "outputs": []
    },
    {
      "cell_type": "markdown",
      "source": [
        "# DataTypes  | Types of Data\n",
        "---"
      ],
      "metadata": {
        "id": "mr-Z5rVcW0NG"
      }
    },
    {
      "cell_type": "markdown",
      "source": [
        "# 1. String\n",
        "---\n",
        "<pre>\n",
        "String represents Text Data , it may contain combination of Characters , Numbers or Symbols.\n",
        "eg.\n",
        "\"upgrad@123\"\n",
        "\"51/90 Lincoln Road California\"\n"
      ],
      "metadata": {
        "id": "y2qziBUqW6Ll"
      }
    },
    {
      "cell_type": "markdown",
      "source": [
        "# 2. Int\n",
        "---\n",
        "<pre>\n",
        "Integer represents Whole Numbers.\n",
        "eg.\n",
        "10 , 0 , 90 ,2"
      ],
      "metadata": {
        "id": "2WTHbAnMXgD1"
      }
    },
    {
      "cell_type": "markdown",
      "source": [
        "# 3. Float\n",
        "---\n",
        "<pre>\n",
        "Float Represents Decimal Values.\n",
        "eg.\n",
        "2.2 , 1.0005 , 0.0004"
      ],
      "metadata": {
        "id": "3nyBSoEhX-pm"
      }
    },
    {
      "cell_type": "markdown",
      "source": [
        "# 4. Bool\n",
        "---\n",
        "<pre>\n",
        "Bool Represents Logical values.\n",
        "eg.\n",
        "\n",
        "True, False"
      ],
      "metadata": {
        "id": "5xmsLwuwYagq"
      }
    },
    {
      "cell_type": "code",
      "source": [
        "60 > 100"
      ],
      "metadata": {
        "colab": {
          "base_uri": "https://localhost:8080/"
        },
        "id": "QEFIaiOaW1_q",
        "outputId": "e765ba13-9c62-4de1-ae3e-062e299339e2"
      },
      "execution_count": null,
      "outputs": [
        {
          "output_type": "execute_result",
          "data": {
            "text/plain": [
              "False"
            ]
          },
          "metadata": {},
          "execution_count": 8
        }
      ]
    },
    {
      "cell_type": "code",
      "source": [
        "100 > 60"
      ],
      "metadata": {
        "colab": {
          "base_uri": "https://localhost:8080/"
        },
        "id": "38BSgcWMYkUl",
        "outputId": "00c5ffc5-c3d7-426c-9732-e6be2fa1ba1b"
      },
      "execution_count": null,
      "outputs": [
        {
          "output_type": "execute_result",
          "data": {
            "text/plain": [
              "True"
            ]
          },
          "metadata": {},
          "execution_count": 9
        }
      ]
    },
    {
      "cell_type": "code",
      "source": [],
      "metadata": {
        "id": "1vWTzYx8Ymyb"
      },
      "execution_count": null,
      "outputs": []
    },
    {
      "cell_type": "markdown",
      "source": [
        "# 🐝 Variables in Python\n",
        "----\n",
        "Variables are like containers used to store  value."
      ],
      "metadata": {
        "id": "W575zj3BZCRa"
      }
    },
    {
      "cell_type": "code",
      "source": [
        "name=\"andika\"\n",
        "age=27\n",
        "height=5.11\n",
        "isIndian=False"
      ],
      "metadata": {
        "id": "CWvgpwjQZFx5"
      },
      "execution_count": 3,
      "outputs": []
    },
    {
      "cell_type": "code",
      "source": [
        "# notes: only string value is needed to be enclosed in quotation\n",
        "\n",
        "# variable names should not start with number or symbol . eg. 12Name=\"andika\" ,$name=\"andika\"  ❌\n",
        "\n",
        "# variable name must not contain space , u can use underscore eg. my name=\"andika\" ❌ , my_name=\"andika\" 👌"
      ],
      "metadata": {
        "id": "msq1zLAOZOr_"
      },
      "execution_count": 1,
      "outputs": []
    },
    {
      "cell_type": "code",
      "source": [
        "print(name,age,height,isIndian)"
      ],
      "metadata": {
        "colab": {
          "base_uri": "https://localhost:8080/"
        },
        "id": "v_NWXKO9aCcO",
        "outputId": "4793859b-4fdf-4f50-b107-a99718ef02ad"
      },
      "execution_count": 4,
      "outputs": [
        {
          "output_type": "stream",
          "name": "stdout",
          "text": [
            "andika 27 5.11 False\n"
          ]
        }
      ]
    },
    {
      "cell_type": "code",
      "source": [
        "# how about preparing custom strings (messages)\n",
        "\n",
        "print('how are you ? ', name )"
      ],
      "metadata": {
        "colab": {
          "base_uri": "https://localhost:8080/"
        },
        "id": "_1PYmRAKacsX",
        "outputId": "a635dfb3-47ef-45c7-89f0-0b0248ed8ccb"
      },
      "execution_count": null,
      "outputs": [
        {
          "output_type": "stream",
          "name": "stdout",
          "text": [
            "how are you ?  andika\n"
          ]
        }
      ]
    },
    {
      "cell_type": "code",
      "source": [],
      "metadata": {
        "id": "1IZJL25hajvr"
      },
      "execution_count": null,
      "outputs": []
    },
    {
      "cell_type": "code",
      "source": [
        "# another example\n",
        "\n",
        "print('how are you ? ', name ,' you are ', age ,' years old ')"
      ],
      "metadata": {
        "colab": {
          "base_uri": "https://localhost:8080/"
        },
        "id": "clDUmyJ3arzG",
        "outputId": "908f7834-6b3a-4012-86d9-93d87816dda5"
      },
      "execution_count": null,
      "outputs": [
        {
          "output_type": "stream",
          "name": "stdout",
          "text": [
            "how are you ?  andika  you are  27  years old \n"
          ]
        }
      ]
    },
    {
      "cell_type": "code",
      "source": [
        "# above is a poor method of preparing a custom message here is how we do it like PRO"
      ],
      "metadata": {
        "id": "e8F2RJF4avuU"
      },
      "execution_count": null,
      "outputs": []
    },
    {
      "cell_type": "code",
      "source": [
        "print(f'how are you {name} you are {age} years old')"
      ],
      "metadata": {
        "colab": {
          "base_uri": "https://localhost:8080/"
        },
        "id": "VzsXPOrba-1G",
        "outputId": "5da06c46-b408-408d-83e4-e8e80951e3de"
      },
      "execution_count": null,
      "outputs": [
        {
          "output_type": "stream",
          "name": "stdout",
          "text": [
            "how are you andika you are 27 years old\n"
          ]
        }
      ]
    },
    {
      "cell_type": "code",
      "source": [
        "# preparing friendly messages by combining custom string and variable together\n",
        "# technically it is called String Formatting."
      ],
      "metadata": {
        "id": "52t4mctMbBhv"
      },
      "execution_count": null,
      "outputs": []
    },
    {
      "cell_type": "code",
      "source": [
        "# F-String is used for String Formatting"
      ],
      "metadata": {
        "id": "OkiU3mWibO04"
      },
      "execution_count": null,
      "outputs": []
    },
    {
      "cell_type": "code",
      "source": [
        "# There are 2 Rules you must follow to use F STring\n",
        "\n",
        "  # Rule 1: the sentance must be prefixed with Letter 'f'\n",
        "  # Rule 2 : the variables must be enclosed in {} brackets."
      ],
      "metadata": {
        "id": "fqD4jf7pbStA"
      },
      "execution_count": null,
      "outputs": []
    },
    {
      "cell_type": "code",
      "source": [
        "# here one more example"
      ],
      "metadata": {
        "id": "kV8QtqJRbtQK"
      },
      "execution_count": null,
      "outputs": []
    },
    {
      "cell_type": "code",
      "source": [
        "planet='earth'\n",
        "diameter=12734"
      ],
      "metadata": {
        "id": "od5ohQZMbu3R"
      },
      "execution_count": null,
      "outputs": []
    },
    {
      "cell_type": "code",
      "source": [
        "line= f'the diameter of {planet} is {diameter}'"
      ],
      "metadata": {
        "id": "7G_SYwl1bwwZ"
      },
      "execution_count": null,
      "outputs": []
    },
    {
      "cell_type": "code",
      "source": [
        "print(line)"
      ],
      "metadata": {
        "colab": {
          "base_uri": "https://localhost:8080/"
        },
        "id": "5ZkjcUz5byvk",
        "outputId": "c4799b1c-f52a-42c6-bc2d-a210ce881b51"
      },
      "execution_count": null,
      "outputs": [
        {
          "output_type": "stream",
          "name": "stdout",
          "text": [
            "the diameter of earth is 12734\n"
          ]
        }
      ]
    },
    {
      "cell_type": "code",
      "source": [],
      "metadata": {
        "id": "nZ7f9Efab2mH"
      },
      "execution_count": null,
      "outputs": []
    },
    {
      "cell_type": "markdown",
      "source": [
        "# Quick Activity\n",
        "---\n"
      ],
      "metadata": {
        "id": "3tHny87OcAMF"
      }
    },
    {
      "cell_type": "code",
      "source": [
        "item='clock'\n",
        "day='yesterday'\n",
        "impact='time consuming'"
      ],
      "metadata": {
        "id": "b0hYQfZXcCWr"
      },
      "execution_count": null,
      "outputs": []
    },
    {
      "cell_type": "code",
      "source": [
        "# using f string to produce\n",
        "\n",
        "\n",
        "# 'i Ate a clock Yesterday , it was very time consuming'"
      ],
      "metadata": {
        "id": "9Wef-jkLcGnU"
      },
      "execution_count": null,
      "outputs": []
    },
    {
      "cell_type": "code",
      "source": [],
      "metadata": {
        "id": "-QRcMsWqcK3x"
      },
      "execution_count": null,
      "outputs": []
    }
  ]
}