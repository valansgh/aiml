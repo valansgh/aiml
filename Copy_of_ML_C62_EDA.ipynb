{
  "cells": [
    {
      "cell_type": "markdown",
      "metadata": {
        "id": "view-in-github",
        "colab_type": "text"
      },
      "source": [
        "<a href=\"https://colab.research.google.com/github/valansgh/aiml/blob/main/Copy_of_ML_C62_EDA.ipynb\" target=\"_parent\"><img src=\"https://colab.research.google.com/assets/colab-badge.svg\" alt=\"Open In Colab\"/></a>"
      ]
    },
    {
      "cell_type": "markdown",
      "id": "ba9089d9",
      "metadata": {
        "id": "ba9089d9"
      },
      "source": [
        "## Steps for EDA:\n",
        "- Today:\n",
        "- Import Necessary Libraries\n",
        "- Load the data and Data dictionary (if available)\n",
        "- Data Understanding\n",
        "- Missing Value Check\n",
        "- Segmentation of Columns (Optional)\n",
        "- Tomorrow:\n",
        "- Analysis:\n",
        "    - Univariate Analysis (One Variable at a time)\n",
        "    - Bivariate Analysis (Two Variable at a time)\n",
        "    - Multivariate Analysis (More than two Variables at a time)"
      ]
    },
    {
      "cell_type": "markdown",
      "id": "1b094e97",
      "metadata": {
        "id": "1b094e97"
      },
      "source": [
        "## Importing Necessary Library"
      ]
    },
    {
      "cell_type": "code",
      "execution_count": null,
      "id": "c4872f1e",
      "metadata": {
        "id": "c4872f1e"
      },
      "outputs": [],
      "source": [
        "# Numerical and Data Analysis\n",
        "import numpy as np\n",
        "import pandas as pd\n",
        "\n",
        "# Data Visualization\n",
        "import seaborn as sns\n",
        "import matplotlib.pyplot as plt\n",
        "\n",
        "# Extra\n",
        "import warnings\n",
        "warnings.filterwarnings('ignore')"
      ]
    },
    {
      "cell_type": "markdown",
      "id": "5b1c2e51",
      "metadata": {
        "id": "5b1c2e51"
      },
      "source": [
        "## Data Loading"
      ]
    },
    {
      "cell_type": "code",
      "execution_count": null,
      "id": "2e94aa02",
      "metadata": {
        "id": "2e94aa02"
      },
      "outputs": [],
      "source": [
        "df=pd.read_csv(\"titanic_dataset.csv\")\n",
        "#https://drive.google.com/file/d/1plN-KWVopblsqOdgTYPn-O-zG5cWrkf7/view?usp=drive_link"
      ]
    },
    {
      "cell_type": "code",
      "execution_count": null,
      "id": "481e0081",
      "metadata": {
        "id": "481e0081",
        "outputId": "bf184873-b895-4371-9a5a-86340ce04da9"
      },
      "outputs": [
        {
          "data": {
            "text/html": [
              "<div>\n",
              "<style scoped>\n",
              "    .dataframe tbody tr th:only-of-type {\n",
              "        vertical-align: middle;\n",
              "    }\n",
              "\n",
              "    .dataframe tbody tr th {\n",
              "        vertical-align: top;\n",
              "    }\n",
              "\n",
              "    .dataframe thead th {\n",
              "        text-align: right;\n",
              "    }\n",
              "</style>\n",
              "<table border=\"1\" class=\"dataframe\">\n",
              "  <thead>\n",
              "    <tr style=\"text-align: right;\">\n",
              "      <th></th>\n",
              "      <th>PassengerId</th>\n",
              "      <th>Survived</th>\n",
              "      <th>Pclass</th>\n",
              "      <th>Name</th>\n",
              "      <th>Sex</th>\n",
              "      <th>Age</th>\n",
              "      <th>SibSp</th>\n",
              "      <th>Parch</th>\n",
              "      <th>Ticket</th>\n",
              "      <th>Fare</th>\n",
              "      <th>Cabin</th>\n",
              "      <th>Embarked</th>\n",
              "    </tr>\n",
              "  </thead>\n",
              "  <tbody>\n",
              "    <tr>\n",
              "      <th>0</th>\n",
              "      <td>1</td>\n",
              "      <td>0</td>\n",
              "      <td>3</td>\n",
              "      <td>Braund, Mr. Owen Harris</td>\n",
              "      <td>male</td>\n",
              "      <td>22.0</td>\n",
              "      <td>1</td>\n",
              "      <td>0</td>\n",
              "      <td>A/5 21171</td>\n",
              "      <td>7.2500</td>\n",
              "      <td>NaN</td>\n",
              "      <td>S</td>\n",
              "    </tr>\n",
              "    <tr>\n",
              "      <th>1</th>\n",
              "      <td>2</td>\n",
              "      <td>1</td>\n",
              "      <td>1</td>\n",
              "      <td>Cumings, Mrs. John Bradley (Florence Briggs Th...</td>\n",
              "      <td>female</td>\n",
              "      <td>38.0</td>\n",
              "      <td>1</td>\n",
              "      <td>0</td>\n",
              "      <td>PC 17599</td>\n",
              "      <td>71.2833</td>\n",
              "      <td>C85</td>\n",
              "      <td>C</td>\n",
              "    </tr>\n",
              "  </tbody>\n",
              "</table>\n",
              "</div>"
            ],
            "text/plain": [
              "   PassengerId  Survived  Pclass  \\\n",
              "0            1         0       3   \n",
              "1            2         1       1   \n",
              "\n",
              "                                                Name     Sex   Age  SibSp  \\\n",
              "0                            Braund, Mr. Owen Harris    male  22.0      1   \n",
              "1  Cumings, Mrs. John Bradley (Florence Briggs Th...  female  38.0      1   \n",
              "\n",
              "   Parch     Ticket     Fare Cabin Embarked  \n",
              "0      0  A/5 21171   7.2500   NaN        S  \n",
              "1      0   PC 17599  71.2833   C85        C  "
            ]
          },
          "execution_count": 15,
          "metadata": {},
          "output_type": "execute_result"
        }
      ],
      "source": [
        "df.head(2)"
      ]
    },
    {
      "cell_type": "code",
      "execution_count": null,
      "id": "c31d5e00",
      "metadata": {
        "id": "c31d5e00"
      },
      "outputs": [],
      "source": [
        "# Problem Statement: Variables/Factors affected the survival of passengers"
      ]
    },
    {
      "cell_type": "code",
      "execution_count": null,
      "id": "de00ce0e",
      "metadata": {
        "id": "de00ce0e",
        "outputId": "6da6a1c9-8e1a-4ae7-cd08-37c7b2b98d6a"
      },
      "outputs": [
        {
          "data": {
            "text/plain": [
              "(891, 12)"
            ]
          },
          "execution_count": 17,
          "metadata": {},
          "output_type": "execute_result"
        }
      ],
      "source": [
        "df.shape"
      ]
    },
    {
      "cell_type": "code",
      "execution_count": null,
      "id": "589e73b6",
      "metadata": {
        "id": "589e73b6",
        "outputId": "f64fa5a7-10f4-440e-ba13-dd47da6567f4"
      },
      "outputs": [
        {
          "name": "stdout",
          "output_type": "stream",
          "text": [
            "<class 'pandas.core.frame.DataFrame'>\n",
            "RangeIndex: 891 entries, 0 to 890\n",
            "Data columns (total 12 columns):\n",
            " #   Column       Non-Null Count  Dtype  \n",
            "---  ------       --------------  -----  \n",
            " 0   PassengerId  891 non-null    int64  \n",
            " 1   Survived     891 non-null    int64  \n",
            " 2   Pclass       891 non-null    int64  \n",
            " 3   Name         891 non-null    object \n",
            " 4   Sex          891 non-null    object \n",
            " 5   Age          714 non-null    float64\n",
            " 6   SibSp        891 non-null    int64  \n",
            " 7   Parch        891 non-null    int64  \n",
            " 8   Ticket       891 non-null    object \n",
            " 9   Fare         891 non-null    float64\n",
            " 10  Cabin        204 non-null    object \n",
            " 11  Embarked     889 non-null    object \n",
            "dtypes: float64(2), int64(5), object(5)\n",
            "memory usage: 83.7+ KB\n"
          ]
        }
      ],
      "source": [
        "df.info()"
      ]
    },
    {
      "cell_type": "markdown",
      "id": "8ce7cc2f",
      "metadata": {
        "id": "8ce7cc2f"
      },
      "source": [
        "## Missing Value Check"
      ]
    },
    {
      "cell_type": "code",
      "execution_count": null,
      "id": "81e23b20",
      "metadata": {
        "id": "81e23b20",
        "outputId": "021f15b3-96be-4dd9-f1ba-982aa24b4aa9"
      },
      "outputs": [
        {
          "data": {
            "text/plain": [
              "PassengerId     0.000000\n",
              "Survived        0.000000\n",
              "Pclass          0.000000\n",
              "Name            0.000000\n",
              "Sex             0.000000\n",
              "Age            19.865320\n",
              "SibSp           0.000000\n",
              "Parch           0.000000\n",
              "Ticket          0.000000\n",
              "Fare            0.000000\n",
              "Cabin          77.104377\n",
              "Embarked        0.224467\n",
              "dtype: float64"
            ]
          },
          "execution_count": 19,
          "metadata": {},
          "output_type": "execute_result"
        }
      ],
      "source": [
        "100*df.isnull().mean()"
      ]
    },
    {
      "cell_type": "code",
      "execution_count": null,
      "id": "b1818f5d",
      "metadata": {
        "id": "b1818f5d"
      },
      "outputs": [],
      "source": [
        "## Cabin column has more than 40% of missing values so straight away dropping it\n",
        "df1=df.drop(\"Cabin\",axis=1)"
      ]
    },
    {
      "cell_type": "code",
      "execution_count": null,
      "id": "d67ce6bf",
      "metadata": {
        "id": "d67ce6bf",
        "outputId": "b0f83216-2ffd-4cb5-a595-13b850c9caa4"
      },
      "outputs": [
        {
          "data": {
            "text/plain": [
              "PassengerId     0.000000\n",
              "Survived        0.000000\n",
              "Pclass          0.000000\n",
              "Name            0.000000\n",
              "Sex             0.000000\n",
              "Age            19.865320\n",
              "SibSp           0.000000\n",
              "Parch           0.000000\n",
              "Ticket          0.000000\n",
              "Fare            0.000000\n",
              "Embarked        0.224467\n",
              "dtype: float64"
            ]
          },
          "execution_count": 21,
          "metadata": {},
          "output_type": "execute_result"
        }
      ],
      "source": [
        "100*df1.isnull().mean()"
      ]
    },
    {
      "cell_type": "code",
      "execution_count": null,
      "id": "1411e570",
      "metadata": {
        "id": "1411e570"
      },
      "outputs": [],
      "source": [
        "## Numerical column --> Mean/Median (median is preferred as it is least effected with outliers)\n",
        "## Categorical column --> Mode"
      ]
    },
    {
      "cell_type": "code",
      "execution_count": null,
      "id": "af65595b",
      "metadata": {
        "id": "af65595b",
        "outputId": "3885faf3-8f6a-4f23-8b8a-08c9a3d5a954"
      },
      "outputs": [
        {
          "name": "stdout",
          "output_type": "stream",
          "text": [
            "Mean: 3.0\n",
            "Median: 3.0\n"
          ]
        }
      ],
      "source": [
        "arr=np.array([1,2,3,4,5])\n",
        "print(\"Mean:\",np.mean(arr))\n",
        "print(\"Median:\",np.median(arr))"
      ]
    },
    {
      "cell_type": "code",
      "execution_count": null,
      "id": "a0ced6b0",
      "metadata": {
        "id": "a0ced6b0",
        "outputId": "045d2422-2c6b-49a5-deb3-8da4f4613c29"
      },
      "outputs": [
        {
          "name": "stdout",
          "output_type": "stream",
          "text": [
            "Mean: 19.166666666666668\n",
            "Median: 3.5\n"
          ]
        }
      ],
      "source": [
        "arr=np.array([1,2,3,4,5,100])\n",
        "print(\"Mean:\",np.mean(arr))\n",
        "print(\"Median:\",np.median(arr))"
      ]
    },
    {
      "cell_type": "code",
      "execution_count": null,
      "id": "68a8e506",
      "metadata": {
        "id": "68a8e506"
      },
      "outputs": [],
      "source": [
        "med=df1[\"Age\"].median()\n",
        "df1[\"Age\"]=df1[\"Age\"].fillna(med)# replacing the missing values with median i.e. 28"
      ]
    },
    {
      "cell_type": "code",
      "execution_count": null,
      "id": "1e099519",
      "metadata": {
        "id": "1e099519",
        "outputId": "9519616c-5819-4555-e2db-2caff0f45c93"
      },
      "outputs": [
        {
          "data": {
            "text/plain": [
              "PassengerId    0\n",
              "Survived       0\n",
              "Pclass         0\n",
              "Name           0\n",
              "Sex            0\n",
              "Age            0\n",
              "SibSp          0\n",
              "Parch          0\n",
              "Ticket         0\n",
              "Fare           0\n",
              "Embarked       2\n",
              "dtype: int64"
            ]
          },
          "execution_count": 26,
          "metadata": {},
          "output_type": "execute_result"
        }
      ],
      "source": [
        "df1.isnull().sum()"
      ]
    },
    {
      "cell_type": "code",
      "execution_count": null,
      "id": "c65ef1b6",
      "metadata": {
        "id": "c65ef1b6"
      },
      "outputs": [],
      "source": [
        "# Embarked column has very less missing values so for this column we can use any of the approach\n",
        "# that we can either drop the rows or we can impute with mode"
      ]
    },
    {
      "cell_type": "code",
      "execution_count": null,
      "id": "4959d055",
      "metadata": {
        "id": "4959d055",
        "outputId": "d8814eee-753b-4d7c-ba52-cf93031c051f"
      },
      "outputs": [
        {
          "data": {
            "text/plain": [
              "(889, 11)"
            ]
          },
          "execution_count": 28,
          "metadata": {},
          "output_type": "execute_result"
        }
      ],
      "source": [
        "df2=df1[df1[\"Embarked\"].notna()]# dropping works where embarked column is missing\n",
        "df2.shape"
      ]
    },
    {
      "cell_type": "code",
      "execution_count": null,
      "id": "4e973ea5",
      "metadata": {
        "id": "4e973ea5"
      },
      "outputs": [],
      "source": [
        "mod=df1[\"Embarked\"].mode()[0]\n",
        "df1[\"Embarked\"]=df1[\"Embarked\"].fillna(mod)# replacing the missing values with mode i.e. 'S'"
      ]
    },
    {
      "cell_type": "code",
      "execution_count": null,
      "id": "b05f1af6",
      "metadata": {
        "id": "b05f1af6",
        "outputId": "0f917c22-f93e-4eb6-da52-cd0c4e99d03f"
      },
      "outputs": [
        {
          "data": {
            "text/plain": [
              "PassengerId    0\n",
              "Survived       0\n",
              "Pclass         0\n",
              "Name           0\n",
              "Sex            0\n",
              "Age            0\n",
              "SibSp          0\n",
              "Parch          0\n",
              "Ticket         0\n",
              "Fare           0\n",
              "Embarked       0\n",
              "dtype: int64"
            ]
          },
          "execution_count": 30,
          "metadata": {},
          "output_type": "execute_result"
        }
      ],
      "source": [
        "df1.isnull().sum()"
      ]
    },
    {
      "cell_type": "code",
      "execution_count": null,
      "id": "c2d16460",
      "metadata": {
        "id": "c2d16460",
        "outputId": "cdac50b6-3560-4899-8a2e-86d6b3273062"
      },
      "outputs": [
        {
          "data": {
            "text/html": [
              "<div>\n",
              "<style scoped>\n",
              "    .dataframe tbody tr th:only-of-type {\n",
              "        vertical-align: middle;\n",
              "    }\n",
              "\n",
              "    .dataframe tbody tr th {\n",
              "        vertical-align: top;\n",
              "    }\n",
              "\n",
              "    .dataframe thead th {\n",
              "        text-align: right;\n",
              "    }\n",
              "</style>\n",
              "<table border=\"1\" class=\"dataframe\">\n",
              "  <thead>\n",
              "    <tr style=\"text-align: right;\">\n",
              "      <th></th>\n",
              "      <th>PassengerId</th>\n",
              "      <th>Survived</th>\n",
              "      <th>Pclass</th>\n",
              "      <th>Name</th>\n",
              "      <th>Sex</th>\n",
              "      <th>Age</th>\n",
              "      <th>SibSp</th>\n",
              "      <th>Parch</th>\n",
              "      <th>Ticket</th>\n",
              "      <th>Fare</th>\n",
              "      <th>Embarked</th>\n",
              "    </tr>\n",
              "  </thead>\n",
              "  <tbody>\n",
              "    <tr>\n",
              "      <th>0</th>\n",
              "      <td>1</td>\n",
              "      <td>0</td>\n",
              "      <td>3</td>\n",
              "      <td>Braund, Mr. Owen Harris</td>\n",
              "      <td>male</td>\n",
              "      <td>22.0</td>\n",
              "      <td>1</td>\n",
              "      <td>0</td>\n",
              "      <td>A/5 21171</td>\n",
              "      <td>7.2500</td>\n",
              "      <td>S</td>\n",
              "    </tr>\n",
              "    <tr>\n",
              "      <th>1</th>\n",
              "      <td>2</td>\n",
              "      <td>1</td>\n",
              "      <td>1</td>\n",
              "      <td>Cumings, Mrs. John Bradley (Florence Briggs Th...</td>\n",
              "      <td>female</td>\n",
              "      <td>38.0</td>\n",
              "      <td>1</td>\n",
              "      <td>0</td>\n",
              "      <td>PC 17599</td>\n",
              "      <td>71.2833</td>\n",
              "      <td>C</td>\n",
              "    </tr>\n",
              "  </tbody>\n",
              "</table>\n",
              "</div>"
            ],
            "text/plain": [
              "   PassengerId  Survived  Pclass  \\\n",
              "0            1         0       3   \n",
              "1            2         1       1   \n",
              "\n",
              "                                                Name     Sex   Age  SibSp  \\\n",
              "0                            Braund, Mr. Owen Harris    male  22.0      1   \n",
              "1  Cumings, Mrs. John Bradley (Florence Briggs Th...  female  38.0      1   \n",
              "\n",
              "   Parch     Ticket     Fare Embarked  \n",
              "0      0  A/5 21171   7.2500        S  \n",
              "1      0   PC 17599  71.2833        C  "
            ]
          },
          "execution_count": 31,
          "metadata": {},
          "output_type": "execute_result"
        }
      ],
      "source": [
        "df1.head(2)"
      ]
    },
    {
      "cell_type": "markdown",
      "id": "64e565d4",
      "metadata": {
        "id": "64e565d4"
      },
      "source": [
        "### Segmentation (Optional)"
      ]
    },
    {
      "cell_type": "code",
      "execution_count": null,
      "id": "0d6fba32",
      "metadata": {
        "id": "0d6fba32",
        "outputId": "92caf64b-4d72-4e42-eb67-fb8e8614dd4d"
      },
      "outputs": [
        {
          "data": {
            "text/plain": [
              "PassengerId    891\n",
              "Survived         2\n",
              "Pclass           3\n",
              "Name           891\n",
              "Sex              2\n",
              "Age             88\n",
              "SibSp            7\n",
              "Parch            7\n",
              "Ticket         681\n",
              "Fare           248\n",
              "Embarked         3\n",
              "dtype: int64"
            ]
          },
          "execution_count": 32,
          "metadata": {},
          "output_type": "execute_result"
        }
      ],
      "source": [
        "df1.nunique()"
      ]
    },
    {
      "cell_type": "code",
      "execution_count": null,
      "id": "ba8a8d5c",
      "metadata": {
        "id": "ba8a8d5c"
      },
      "outputs": [],
      "source": [
        "cat_cols=[\"Survived\",\"Pclass\",\"Sex\",\"SibSp\",\"Parch\",\"Embarked\"]\n",
        "num_cols=[\"Age\",\"Fare\"]\n",
        "extra_cols=[\"PassengerId\",\"Name\",\"Ticket\"]"
      ]
    },
    {
      "cell_type": "markdown",
      "id": "8d8ddfa2",
      "metadata": {
        "id": "8d8ddfa2"
      },
      "source": [
        "## Univariate Analysis"
      ]
    },
    {
      "cell_type": "markdown",
      "id": "c9f7d762",
      "metadata": {
        "id": "c9f7d762"
      },
      "source": [
        "### Numerical"
      ]
    },
    {
      "cell_type": "code",
      "execution_count": null,
      "id": "9d788b0d",
      "metadata": {
        "collapsed": true,
        "id": "9d788b0d",
        "outputId": "855cde52-e14f-4b40-e0c4-ceab4dc6a2fe"
      },
      "outputs": [
        {
          "data": {
            "image/png": "[encoded data removed]",
            "text/plain": [
              "<Figure size 432x288 with 1 Axes>"
            ]
          },
          "metadata": {
            "needs_background": "light"
          },
          "output_type": "display_data"
        }
      ],
      "source": [
        "sns.histplot(x=df1[\"Age\"],bins=range(0,90,10))\n",
        "plt.show()"
      ]
    },
    {
      "cell_type": "code",
      "execution_count": null,
      "id": "20c17963",
      "metadata": {
        "collapsed": true,
        "id": "20c17963",
        "outputId": "81abf467-6c37-417f-bc4c-cfe615b5c603"
      },
      "outputs": [
        {
          "data": {
            "image/png": "[encoded data removed]",
            "text/plain": [
              "<Figure size 432x288 with 1 Axes>"
            ]
          },
          "metadata": {
            "needs_background": "light"
          },
          "output_type": "display_data"
        }
      ],
      "source": [
        "sns.histplot(x=df1[\"Fare\"],bins=range(0,600,50))\n",
        "plt.show()"
      ]
    },
    {
      "cell_type": "code",
      "execution_count": null,
      "id": "43cbcb81",
      "metadata": {
        "collapsed": true,
        "id": "43cbcb81",
        "outputId": "7c5f96fd-91e4-4fb9-f809-30611b844945"
      },
      "outputs": [
        {
          "data": {
            "text/plain": [
              "count    891.000000\n",
              "mean      29.361582\n",
              "std       13.019697\n",
              "min        0.420000\n",
              "25%       22.000000\n",
              "50%       28.000000\n",
              "75%       35.000000\n",
              "max       80.000000\n",
              "Name: Age, dtype: float64"
            ]
          },
          "execution_count": 46,
          "metadata": {},
          "output_type": "execute_result"
        }
      ],
      "source": [
        "df1[\"Age\"].describe()"
      ]
    },
    {
      "cell_type": "code",
      "execution_count": null,
      "id": "8cd475a4",
      "metadata": {
        "collapsed": true,
        "id": "8cd475a4",
        "outputId": "e4dc0f4b-875a-479f-f9e7-0b78f57bb3f4"
      },
      "outputs": [
        {
          "data": {
            "image/png": "[encoded data removed]",
            "text/plain": [
              "<Figure size 432x288 with 1 Axes>"
            ]
          },
          "metadata": {
            "needs_background": "light"
          },
          "output_type": "display_data"
        }
      ],
      "source": [
        "sns.boxplot(x=df1[\"Age\"])\n",
        "plt.show()\n",
        "# quartiles = Quarter + Percentiles\n",
        "# Q1-> 25%, Q2 -> 50%, Q3-> 75%\n",
        "# Upper Boundary = Q3 +1.5*(Q3-Q1)\n",
        "# Lower Boundary = Q1 -1.5*(Q3-Q1)"
      ]
    },
    {
      "cell_type": "code",
      "execution_count": null,
      "id": "45c143c3",
      "metadata": {
        "collapsed": true,
        "id": "45c143c3",
        "outputId": "b17cb194-5b4c-4cae-b1ee-2669017b8f76"
      },
      "outputs": [
        {
          "data": {
            "image/png": "[encoded data removed]",
            "text/plain": [
              "<Figure size 432x288 with 1 Axes>"
            ]
          },
          "metadata": {
            "needs_background": "light"
          },
          "output_type": "display_data"
        }
      ],
      "source": [
        "sns.boxplot(x=df1[\"Fare\"])\n",
        "plt.show()"
      ]
    },
    {
      "cell_type": "markdown",
      "id": "851cc5ae",
      "metadata": {
        "id": "851cc5ae"
      },
      "source": [
        "### Categorical"
      ]
    },
    {
      "cell_type": "code",
      "execution_count": null,
      "id": "e104a5f0",
      "metadata": {
        "collapsed": true,
        "id": "e104a5f0",
        "outputId": "eb91e493-8ea8-4a9c-af53-aa4148f034f8"
      },
      "outputs": [
        {
          "data": {
            "image/png": "[encoded data removed]",
            "text/plain": [
              "<Figure size 432x288 with 1 Axes>"
            ]
          },
          "metadata": {
            "needs_background": "light"
          },
          "output_type": "display_data"
        }
      ],
      "source": [
        "sns.countplot(x=df1[\"Survived\"])\n",
        "plt.show()"
      ]
    },
    {
      "cell_type": "code",
      "execution_count": null,
      "id": "184117c4",
      "metadata": {
        "collapsed": true,
        "id": "184117c4",
        "outputId": "8748cb00-012b-4986-860d-16c550ef15d1"
      },
      "outputs": [
        {
          "data": {
            "image/png": "[encoded data removed]",
            "text/plain": [
              "<Figure size 432x288 with 1 Axes>"
            ]
          },
          "metadata": {
            "needs_background": "light"
          },
          "output_type": "display_data"
        }
      ],
      "source": [
        "sns.countplot(x=df1[\"Sex\"])\n",
        "plt.show()"
      ]
    },
    {
      "cell_type": "code",
      "execution_count": null,
      "id": "acf0e5ba",
      "metadata": {
        "collapsed": true,
        "id": "acf0e5ba",
        "outputId": "a7a193fb-8b1f-4de1-86bf-75dce66d7333"
      },
      "outputs": [
        {
          "name": "stdout",
          "output_type": "stream",
          "text": [
            "Countplot of Survived\n"
          ]
        },
        {
          "data": {
            "image/png": "[encoded data removed]",
            "text/plain": [
              "<Figure size 432x288 with 1 Axes>"
            ]
          },
          "metadata": {
            "needs_background": "light"
          },
          "output_type": "display_data"
        },
        {
          "name": "stdout",
          "output_type": "stream",
          "text": [
            "Countplot of Pclass\n"
          ]
        },
        {
          "data": {
            "image/png": "[encoded data removed]",
            "text/plain": [
              "<Figure size 432x288 with 1 Axes>"
            ]
          },
          "metadata": {
            "needs_background": "light"
          },
          "output_type": "display_data"
        },
        {
          "name": "stdout",
          "output_type": "stream",
          "text": [
            "Countplot of Sex\n"
          ]
        },
        {
          "data": {
            "image/png": "[encoded data removed]",
            "text/plain": [
              "<Figure size 432x288 with 1 Axes>"
            ]
          },
          "metadata": {
            "needs_background": "light"
          },
          "output_type": "display_data"
        },
        {
          "name": "stdout",
          "output_type": "stream",
          "text": [
            "Countplot of SibSp\n"
          ]
        },
        {
          "data": {
            "image/png": "[encoded data removed]",
            "text/plain": [
              "<Figure size 432x288 with 1 Axes>"
            ]
          },
          "metadata": {
            "needs_background": "light"
          },
          "output_type": "display_data"
        },
        {
          "name": "stdout",
          "output_type": "stream",
          "text": [
            "Countplot of Parch\n"
          ]
        },
        {
          "data": {
            "image/png": "[encoded data removed]",
            "text/plain": [
              "<Figure size 432x288 with 1 Axes>"
            ]
          },
          "metadata": {
            "needs_background": "light"
          },
          "output_type": "display_data"
        },
        {
          "name": "stdout",
          "output_type": "stream",
          "text": [
            "Countplot of Embarked\n"
          ]
        },
        {
          "data": {
            "image/png": "[encoded data removed]",
            "text/plain": [
              "<Figure size 432x288 with 1 Axes>"
            ]
          },
          "metadata": {
            "needs_background": "light"
          },
          "output_type": "display_data"
        }
      ],
      "source": [
        "for i in cat_cols:\n",
        "    print(\"Countplot of\",i)\n",
        "    sns.countplot(x=df1[i])\n",
        "    plt.show()"
      ]
    },
    {
      "cell_type": "code",
      "execution_count": null,
      "id": "da8f330d",
      "metadata": {
        "id": "da8f330d"
      },
      "outputs": [],
      "source": [
        "y=df1[\"Pclass\"].value_counts(normalize=True).values\n",
        "names=df1[\"Pclass\"].value_counts(normalize=True).index"
      ]
    },
    {
      "cell_type": "code",
      "execution_count": null,
      "id": "79390f33",
      "metadata": {
        "id": "79390f33",
        "outputId": "b69c5f32-9a1d-4edc-819c-d71b7098b229"
      },
      "outputs": [
        {
          "data": {
            "text/plain": [
              "array(['male', 'female'], dtype=object)"
            ]
          },
          "execution_count": 73,
          "metadata": {},
          "output_type": "execute_result"
        }
      ],
      "source": [
        "df1[\"Sex\"].value_counts(normalize=True).index"
      ]
    },
    {
      "cell_type": "code",
      "execution_count": null,
      "id": "5a36743d",
      "metadata": {
        "id": "5a36743d",
        "outputId": "31730330-0181-492e-bb71-bf3348f88b93"
      },
      "outputs": [
        {
          "data": {
            "text/plain": [
              "array([0.64758698, 0.35241302])"
            ]
          },
          "execution_count": 71,
          "metadata": {},
          "output_type": "execute_result"
        }
      ],
      "source": [
        "df1[\"Sex\"].value_counts(normalize=True).values"
      ]
    },
    {
      "cell_type": "code",
      "execution_count": null,
      "id": "5f560339",
      "metadata": {
        "collapsed": true,
        "id": "5f560339",
        "outputId": "ce7956e1-a208-479b-ff37-9dd0ee4295d7"
      },
      "outputs": [
        {
          "name": "stdout",
          "output_type": "stream",
          "text": [
            "--------------- Survived -------------------\n"
          ]
        },
        {
          "data": {
            "image/png": "[encoded data removed]",
            "text/plain": [
              "<Figure size 432x288 with 1 Axes>"
            ]
          },
          "metadata": {},
          "output_type": "display_data"
        },
        {
          "name": "stdout",
          "output_type": "stream",
          "text": [
            "--------------- Pclass -------------------\n"
          ]
        },
        {
          "data": {
            "image/png": "[encoded data removed]",
            "text/plain": [
              "<Figure size 432x288 with 1 Axes>"
            ]
          },
          "metadata": {},
          "output_type": "display_data"
        },
        {
          "name": "stdout",
          "output_type": "stream",
          "text": [
            "--------------- Sex -------------------\n"
          ]
        },
        {
          "data": {
            "image/png": "[encoded data removed]",
            "text/plain": [
              "<Figure size 432x288 with 1 Axes>"
            ]
          },
          "metadata": {},
          "output_type": "display_data"
        },
        {
          "name": "stdout",
          "output_type": "stream",
          "text": [
            "--------------- SibSp -------------------\n"
          ]
        },
        {
          "data": {
            "image/png": "[encoded data removed]",
            "text/plain": [
              "<Figure size 432x288 with 1 Axes>"
            ]
          },
          "metadata": {},
          "output_type": "display_data"
        },
        {
          "name": "stdout",
          "output_type": "stream",
          "text": [
            "--------------- Parch -------------------\n"
          ]
        },
        {
          "data": {
            "image/png": "[encoded data removed]",
            "text/plain": [
              "<Figure size 432x288 with 1 Axes>"
            ]
          },
          "metadata": {},
          "output_type": "display_data"
        },
        {
          "name": "stdout",
          "output_type": "stream",
          "text": [
            "--------------- Embarked -------------------\n"
          ]
        },
        {
          "data": {
            "image/png": "[encoded data removed]",
            "text/plain": [
              "<Figure size 432x288 with 1 Axes>"
            ]
          },
          "metadata": {},
          "output_type": "display_data"
        }
      ],
      "source": [
        "for i in cat_cols:\n",
        "    print(\"---------------\",i,\"-------------------\")\n",
        "    y=df1[i].value_counts(normalize=True).values\n",
        "    names=df1[i].value_counts(normalize=True).index\n",
        "    plt.pie(y, labels = names,autopct=\"%.0f\")\n",
        "    plt.show()\n"
      ]
    },
    {
      "cell_type": "code",
      "execution_count": null,
      "id": "a05153ac",
      "metadata": {
        "collapsed": true,
        "id": "a05153ac",
        "outputId": "584cdc89-9178-457e-a4b6-3e818f6bc279"
      },
      "outputs": [
        {
          "data": {
            "text/plain": [
              "S    0.725028\n",
              "C    0.188552\n",
              "Q    0.086420\n",
              "Name: Embarked, dtype: float64"
            ]
          },
          "execution_count": 75,
          "metadata": {},
          "output_type": "execute_result"
        }
      ],
      "source": [
        "df1[i].value_counts(normalize=True)"
      ]
    },
    {
      "cell_type": "markdown",
      "id": "401679f6",
      "metadata": {
        "id": "401679f6"
      },
      "source": [
        "## Bivariate Analysis"
      ]
    },
    {
      "cell_type": "markdown",
      "id": "87146bfe",
      "metadata": {
        "id": "87146bfe"
      },
      "source": [
        "### Numerical Vs Numerical"
      ]
    },
    {
      "cell_type": "code",
      "execution_count": null,
      "id": "e83f4d8e",
      "metadata": {
        "collapsed": true,
        "id": "e83f4d8e",
        "outputId": "1dadcd42-1ddf-4d53-9c70-2b63803e7952"
      },
      "outputs": [
        {
          "data": {
            "image/png": "[encoded data removed]",
            "text/plain": [
              "<Figure size 432x288 with 1 Axes>"
            ]
          },
          "metadata": {
            "needs_background": "light"
          },
          "output_type": "display_data"
        }
      ],
      "source": [
        "sns.scatterplot(x=df1[\"Age\"],y=df1[\"Fare\"])\n",
        "plt.show()"
      ]
    },
    {
      "cell_type": "markdown",
      "id": "565d4b47",
      "metadata": {
        "id": "565d4b47"
      },
      "source": [
        "### Numerical Vs Categorical"
      ]
    },
    {
      "cell_type": "code",
      "execution_count": null,
      "id": "2cf7ecae",
      "metadata": {
        "collapsed": true,
        "id": "2cf7ecae",
        "outputId": "9b6af823-c7e0-4438-ed28-dcda8f3159e7"
      },
      "outputs": [
        {
          "data": {
            "image/png": "[encoded data removed]",
            "text/plain": [
              "<Figure size 432x288 with 1 Axes>"
            ]
          },
          "metadata": {
            "needs_background": "light"
          },
          "output_type": "display_data"
        }
      ],
      "source": [
        "sns.boxplot(x=df1[\"Pclass\"],y=df1[\"Fare\"])\n",
        "#X-axis -> Categorical Column\n",
        "#Y-axis -> Numerical Column\n",
        "plt.show()"
      ]
    },
    {
      "cell_type": "code",
      "execution_count": null,
      "id": "a63378c6",
      "metadata": {
        "collapsed": true,
        "id": "a63378c6",
        "outputId": "e497f74d-97d4-4ae8-ebd8-f00fcc5b9a16"
      },
      "outputs": [
        {
          "name": "stdout",
          "output_type": "stream",
          "text": [
            "Boxplot of Survived Vs Age\n"
          ]
        },
        {
          "data": {
            "image/png": "[encoded data removed]",
            "text/plain": [
              "<Figure size 432x288 with 1 Axes>"
            ]
          },
          "metadata": {
            "needs_background": "light"
          },
          "output_type": "display_data"
        },
        {
          "name": "stdout",
          "output_type": "stream",
          "text": [
            "Boxplot of Survived Vs Fare\n"
          ]
        },
        {
          "data": {
            "image/png": "[encoded data removed]",
            "text/plain": [
              "<Figure size 432x288 with 1 Axes>"
            ]
          },
          "metadata": {
            "needs_background": "light"
          },
          "output_type": "display_data"
        },
        {
          "name": "stdout",
          "output_type": "stream",
          "text": [
            "Boxplot of Pclass Vs Age\n"
          ]
        },
        {
          "data": {
            "image/png": "[encoded data removed]",
            "text/plain": [
              "<Figure size 432x288 with 1 Axes>"
            ]
          },
          "metadata": {
            "needs_background": "light"
          },
          "output_type": "display_data"
        },
        {
          "name": "stdout",
          "output_type": "stream",
          "text": [
            "Boxplot of Pclass Vs Fare\n"
          ]
        },
        {
          "data": {
            "image/png": "[encoded data removed]",
            "text/plain": [
              "<Figure size 432x288 with 1 Axes>"
            ]
          },
          "metadata": {
            "needs_background": "light"
          },
          "output_type": "display_data"
        },
        {
          "name": "stdout",
          "output_type": "stream",
          "text": [
            "Boxplot of Sex Vs Age\n"
          ]
        },
        {
          "data": {
            "image/png": "[encoded data removed]",
            "text/plain": [
              "<Figure size 432x288 with 1 Axes>"
            ]
          },
          "metadata": {
            "needs_background": "light"
          },
          "output_type": "display_data"
        },
        {
          "name": "stdout",
          "output_type": "stream",
          "text": [
            "Boxplot of Sex Vs Fare\n"
          ]
        },
        {
          "data": {
            "image/png": "[encoded data removed]",
            "text/plain": [
              "<Figure size 432x288 with 1 Axes>"
            ]
          },
          "metadata": {
            "needs_background": "light"
          },
          "output_type": "display_data"
        },
        {
          "name": "stdout",
          "output_type": "stream",
          "text": [
            "Boxplot of SibSp Vs Age\n"
          ]
        },
        {
          "data": {
            "image/png": "[encoded data removed]",
            "text/plain": [
              "<Figure size 432x288 with 1 Axes>"
            ]
          },
          "metadata": {
            "needs_background": "light"
          },
          "output_type": "display_data"
        },
        {
          "name": "stdout",
          "output_type": "stream",
          "text": [
            "Boxplot of SibSp Vs Fare\n"
          ]
        },
        {
          "data": {
            "image/png": "[encoded data removed]",
            "text/plain": [
              "<Figure size 432x288 with 1 Axes>"
            ]
          },
          "metadata": {
            "needs_background": "light"
          },
          "output_type": "display_data"
        },
        {
          "name": "stdout",
          "output_type": "stream",
          "text": [
            "Boxplot of Parch Vs Age\n"
          ]
        },
        {
          "data": {
            "image/png": "[encoded data removed]",
            "text/plain": [
              "<Figure size 432x288 with 1 Axes>"
            ]
          },
          "metadata": {
            "needs_background": "light"
          },
          "output_type": "display_data"
        },
        {
          "name": "stdout",
          "output_type": "stream",
          "text": [
            "Boxplot of Parch Vs Fare\n"
          ]
        },
        {
          "data": {
            "image/png": "[encoded data removed]",
            "text/plain": [
              "<Figure size 432x288 with 1 Axes>"
            ]
          },
          "metadata": {
            "needs_background": "light"
          },
          "output_type": "display_data"
        },
        {
          "name": "stdout",
          "output_type": "stream",
          "text": [
            "Boxplot of Embarked Vs Age\n"
          ]
        },
        {
          "data": {
            "image/png": "[encoded data removed]",
            "text/plain": [
              "<Figure size 432x288 with 1 Axes>"
            ]
          },
          "metadata": {
            "needs_background": "light"
          },
          "output_type": "display_data"
        },
        {
          "name": "stdout",
          "output_type": "stream",
          "text": [
            "Boxplot of Embarked Vs Fare\n"
          ]
        },
        {
          "data": {
            "image/png": "[encoded data removed]",
            "text/plain": [
              "<Figure size 432x288 with 1 Axes>"
            ]
          },
          "metadata": {
            "needs_background": "light"
          },
          "output_type": "display_data"
        }
      ],
      "source": [
        "for col1 in cat_cols:\n",
        "    for col2 in num_cols:\n",
        "        print(\"Boxplot of\",col1,\"Vs\",col2)\n",
        "        sns.boxplot(x=df1[col1],y=df1[col2])\n",
        "        plt.show()"
      ]
    },
    {
      "cell_type": "code",
      "execution_count": null,
      "id": "936183c5",
      "metadata": {
        "id": "936183c5"
      },
      "outputs": [],
      "source": [
        "# Bring 3 insights from Bivariate Results of Numerical Vs Categorical Column"
      ]
    },
    {
      "cell_type": "markdown",
      "id": "e8da6896",
      "metadata": {
        "id": "e8da6896"
      },
      "source": [
        "### Categorical Vs Categorical"
      ]
    },
    {
      "cell_type": "code",
      "execution_count": null,
      "id": "03f25f0c",
      "metadata": {
        "id": "03f25f0c",
        "outputId": "140fdd63-f604-416b-bdd3-39eb39716f5b"
      },
      "outputs": [
        {
          "data": {
            "image/png": "[encoded data removed]",
            "text/plain": [
              "<Figure size 432x288 with 1 Axes>"
            ]
          },
          "metadata": {
            "needs_background": "light"
          },
          "output_type": "display_data"
        }
      ],
      "source": [
        "sns.barplot(x=df1[\"Pclass\"],y=df1[\"Survived\"],ci=None)\n",
        "plt.show()"
      ]
    },
    {
      "cell_type": "markdown",
      "id": "0670cc11",
      "metadata": {
        "id": "0670cc11"
      },
      "source": [
        "## Multivariate Analysis"
      ]
    },
    {
      "cell_type": "code",
      "execution_count": null,
      "id": "98bcee27",
      "metadata": {
        "id": "98bcee27",
        "outputId": "8460385d-99d9-4371-a048-b7f8d6053de8"
      },
      "outputs": [
        {
          "data": {
            "image/png": "[encoded data removed]",
            "text/plain": [
              "<Figure size 576x432 with 2 Axes>"
            ]
          },
          "metadata": {
            "needs_background": "light"
          },
          "output_type": "display_data"
        }
      ],
      "source": [
        "plt.figure(figsize=(8,6))\n",
        "sns.heatmap(df1[[\"Fare\",\"Parch\",\"SibSp\",\"Age\",\"Pclass\",\"Survived\"]].corr(),annot=True)\n",
        "plt.show()"
      ]
    },
    {
      "cell_type": "code",
      "execution_count": null,
      "id": "95f0ebae",
      "metadata": {
        "id": "95f0ebae"
      },
      "outputs": [],
      "source": [
        "## Correlation represents strength of relationship between variables\n",
        "## Correlation lies in the range of -1 to 1\n",
        "## Negative correlation  (0 to -1) shows inverse relationship\n",
        "## Positive correlation (0 to 1) shows direct relationship\n",
        "## 0 correlation represents no relationship."
      ]
    }
  ],
  "metadata": {
    "kernelspec": {
      "display_name": "Python 3",
      "language": "python",
      "name": "python3"
    },
    "language_info": {
      "codemirror_mode": {
        "name": "ipython",
        "version": 3
      },
      "file_extension": ".py",
      "mimetype": "text/x-python",
      "name": "python",
      "nbconvert_exporter": "python",
      "pygments_lexer": "ipython3",
      "version": "3.8.8"
    },
    "colab": {
      "provenance": [],
      "include_colab_link": true
    }
  },
  "nbformat": 4,
  "nbformat_minor": 5
}